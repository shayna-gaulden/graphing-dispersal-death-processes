{
 "cells": [
  {
   "cell_type": "markdown",
   "metadata": {
    "id": "ylTMJiA26ZJy"
   },
   "source": [
    "# Graphing Birth-Death-Dispersal Processes\n",
    "\n",
    "Run each box in order for code to work\n",
    "\n"
   ]
  },
  {
   "cell_type": "code",
   "execution_count": null,
   "metadata": {
    "id": "THSBXkVR6ZJ-"
   },
   "outputs": [],
   "source": [
    "## IMPORTS\n",
    "import matplotlib.pyplot as plt\n",
    "import random\n",
    "import math as math\n",
    "import networkx as nx\n",
    "import numpy as np\n",
    "import time"
   ]
  },
  {
   "cell_type": "code",
   "execution_count": null,
   "metadata": {
    "id": "IKTTpzTQtlJR"
   },
   "outputs": [],
   "source": [
    "## Gets a random number between 1 and 10 of nodes to die. Chooses a node to be \n",
    "## deleted (death process) based on the survival rate of each node. Once the \n",
    "## node to be removed is chosen it is removed from the graph and its fecundity\n",
    "## and survival rates are removed from the two lists.\n",
    "def death(G): ## Keeps track of survival list throughout instead of remaking it each time\n",
    "    numdeath = int(np.random.uniform(10)) #arbitrary for now and gets the number of nodes to be 'killed'\n",
    "\n",
    "    # This loop goes through each chosen index in the source list and removes them from the graph\n",
    "    for i in range(numdeath):\n",
    "        # This will choose a random index of a node in G weighted by survival rates\n",
    "        source = random.choices(list(survival_rates.keys()), weights = list(survival_rates.values()))[0]\n",
    "        G.remove_node(source) # remove from graph\n",
    "        del survival_rates[source] # delete from the survival dictionary\n",
    "        del fecundity_rates[source] # delete from the fecundity dictionary\n",
    "\n",
    "    # After the removals have occured the graph's fecundity and survival need to be adjusted\n",
    "    fecundity(G)\n",
    "    survival_rate(G)\n"
   ]
  },
  {
   "cell_type": "code",
   "execution_count": null,
   "metadata": {
    "id": "iahtHrdz24WA"
   },
   "outputs": [],
   "source": [
    "## Function picks one node to be the source of a dispersal based on the fecundity\n",
    "## of the node. Once the source node is identified the number of other nodes the\n",
    "## source will disperse calculated as a function of the source degree. Then the\n",
    "## children nodes are disperesed randomly within a radius defined by r_dispersal.\n",
    "def disperse(G, r_dispersal, pos_n):\n",
    "    # Chooses random node index in G weighted by fecundity    \n",
    "    source = random.choices(list(fecundity_rates.keys()), weights = list(fecundity_rates.values()))[0] # random number of population based on fecundity \n",
    "    \n",
    "    xicoord = G.nodes[source][\"attr_dict\"]['x'] # grab x\n",
    "    yicoord = G.nodes[source][\"attr_dict\"]['y'] # grab y coordinate\n",
    "        \n",
    "    children = int(10 * math.exp(-0.1 * G.degree(source))) # number of children it will have, based on desmos\n",
    "    for j in range(children):\n",
    "        added = False\n",
    "        while(added==False):\n",
    "            # random radius length normally distributed and random angle uniformly distributed\n",
    "            rand_r = np.random.uniform(r_dispersal) #radius between 0 and r_dispersal\n",
    "            rand_theta = random.uniform(0,2*math.pi) #angle in radians\n",
    "            xjcoord = rand_r*math.cos(rand_theta) + xicoord\n",
    "            yjcoord = rand_r*math.sin(rand_theta) + yicoord\n",
    "    \n",
    "            # add the node\n",
    "            if (xjcoord <= 2000 and yjcoord <= 2000 and xjcoord >= 0 and yjcoord >= 0): # Include to force window to be constant\n",
    "                G.add_node(pos_n,attr_dict={\"x\":xjcoord,\"y\":yjcoord})\n",
    "                connect(G, pos_n)\n",
    "                pos_n = pos_n + 1\n",
    "                added = True\n",
    "    return pos_n"
   ]
  },
  {
   "cell_type": "code",
   "execution_count": null,
   "metadata": {
    "id": "K4QvQgCr6ZKD"
   },
   "outputs": [],
   "source": [
    "## Function that takes the entire graph G, and calculates the distance between \n",
    "## all the nodes in the graph. When a the distance between two nodes in the \n",
    "## graph is found to be less than the radius 'r_nieghborhood' the two nodes are\n",
    "## connected. At the end of the function the fecundity and survival rates are \n",
    "## recalculated.\n",
    "def connect_all(G,r_nieghborhood):\n",
    "    for i in G:\n",
    "        xicoord = G.nodes[i][\"attr_dict\"]['x']\n",
    "        yicoord = G.nodes[i][\"attr_dict\"]['y']\n",
    "        for j in G:\n",
    "            xjcoord = G.nodes[j][\"attr_dict\"]['x']\n",
    "            yjcoord = G.nodes[j][\"attr_dict\"]['y']\n",
    "            if (i!=j): # I do not need to connect a point to itself\n",
    "                ridistance = math.sqrt((xicoord-xjcoord)**2+(yicoord-yjcoord)**2) # finding radial distance\n",
    "                # if the distance between points indexed at i and j are less than my radius I append them to groupi\n",
    "                if (ridistance <= r_nieghborhood):\n",
    "                    #print(ridistance)\n",
    "                    G.add_edge(i,j)\n",
    "                    \n",
    "    fecundity(G)\n",
    "    survival_rate(G)"
   ]
  },
  {
   "cell_type": "code",
   "execution_count": null,
   "metadata": {
    "id": "TPx208Xj6ZKE"
   },
   "outputs": [],
   "source": [
    "## Function that takes a node 'node' and the entire graph G, and calculates the \n",
    "## distance between 'node' and all other nodes in the graph. When a the distance\n",
    "## between 'node' and another node in the graph is found to be less than the \n",
    "## radius 'r_nieghborhood' the two nodes are connected. At the end of the \n",
    "## function the fecundity and survival rates are recalculated.\n",
    "def connect(G, node):\n",
    "    xicoord = G.nodes[node][\"attr_dict\"]['x']\n",
    "    yicoord = G.nodes[node][\"attr_dict\"]['y']\n",
    "    \n",
    "    for j in G:\n",
    "        xjcoord = G.nodes[j][\"attr_dict\"]['x']  #WM: I'm curious about why single quotes are used here as opposed to the double, used above\n",
    "        yjcoord = G.nodes[j][\"attr_dict\"]['y']\n",
    "        if (node!=j): # I do not need to connect a point to itself\n",
    "            ridistance = math.sqrt((xicoord-xjcoord)**2+(yicoord-yjcoord)**2) # finding radial distance\n",
    "            # if the distance between points indexed at i and j are less than my radius I append them to groupi\n",
    "            if (ridistance <= r_nieghborhood):\n",
    "                #print(ridistance)\n",
    "                G.add_edge(node,j)\n",
    "    \n",
    "    fecundity(G)\n",
    "    survival_rate(G)"
   ]
  },
  {
   "cell_type": "code",
   "execution_count": null,
   "metadata": {
    "id": "PzBBdWX96ZKF"
   },
   "outputs": [],
   "source": [
    "## Function will take our graph G and graph all nodes and their connections\n",
    "def my_grapher(G):\n",
    "    pos = nx.spring_layout(G) #WM: You may not need \"spring_layout\" here\n",
    "    for i in G:\n",
    "        pos[i]=[G.nodes[i][\"attr_dict\"]['x'],G.nodes[i][\"attr_dict\"]['y']]\n",
    "   \n",
    "    fig = plt.figure(facecolor='w')\n",
    "    \n",
    "    xmax = 2000\n",
    "    xmin = 0\n",
    "    ymax = 2000\n",
    "    ymin = 0\n",
    "    \n",
    "    ax = fig.add_subplot(121)\n",
    "    nx.draw(G,pos,node_size = 5) #to include ax again do ax=ax\n",
    "    limits=plt.axis('on')\n",
    "    ax.tick_params(left=True, bottom=True, labelleft=True, labelbottom=True)\n",
    "\n",
    "    plt.subplot(1, 2, 2)\n",
    "    plt.bar(height=nx.degree_histogram(G),x=list(range(0,len(nx.degree_histogram(G)))))\n"
   ]
  },
  {
   "cell_type": "code",
   "execution_count": null,
   "metadata": {
    "id": "0HMMa-D_6ZKF"
   },
   "outputs": [],
   "source": [
    "## This function applies a fecundity to each node based upon degree\n",
    "## (higher degree means lower fecundity). The fecundity is used as weights\n",
    "## to determine which node will be the source of a dispersal.\n",
    "def fecundity(G):\n",
    "    for i in G:\n",
    "        fecundity_rates[i] = math.exp(-G.degree(i)) # to add in a fecundity dictionary"
   ]
  },
  {
   "cell_type": "code",
   "execution_count": null,
   "metadata": {
    "id": "w1RWtLd56ZKF"
   },
   "outputs": [],
   "source": [
    "## This function applies a survival rate to each node based upon degree (higher \n",
    "## degree means lower survival rate). The survival rate is used as weights\n",
    "## to determine which node will be deleted from the graph (death process).\n",
    "def survival_rate(G):\n",
    "    for i in G:\n",
    "        survival_rates[i] = math.exp(G.degree(i)) # Putting the survival rate for i as a function of the degrees of the node i"
   ]
  },
  {
   "cell_type": "code",
   "execution_count": null,
   "metadata": {
    "id": "6cnH31Ou6ZKG"
   },
   "outputs": [],
   "source": [
    "## This function allows you to pick a specific windowed view and will show side\n",
    "## by side a windowed view of the graph and a histograph that shows degree\n",
    "## frquency within the window.\n",
    "def window(G,xmin,xmax,ymin,ymax):\n",
    "    window_degree = []\n",
    "    for i in G:\n",
    "        x = G.nodes[i][\"attr_dict\"]['x']\n",
    "        y = G.nodes[i][\"attr_dict\"]['y']\n",
    "        if (x>=xmin and x<=xmax and y>=ymin and y<=ymax):\n",
    "            window_degree.append(G.degree[i])\n",
    "            \n",
    "    # GRAPH THE WINDOW\n",
    "    pos = nx.spring_layout(G)\n",
    "    for i in G:\n",
    "        pos[i]=[G.nodes[i][\"attr_dict\"]['x'],G.nodes[i][\"attr_dict\"]['y']]\n",
    "   \n",
    "    fig = plt.figure(facecolor='w')\n",
    "    \n",
    "    ax = fig.add_subplot(121, xlim=(xmin,xmax), ylim=(ymin,ymax))\n",
    "    nx.draw(G,pos,node_size = 5,ax=ax)\n",
    "    limits=plt.axis('on')\n",
    "    ax.tick_params(left=True, bottom=True, labelleft=True, labelbottom=True)\n",
    "\n",
    "    plt.subplot(1, 2, 2)\n",
    "    plt.hist(window_degree)\n",
    "    "
   ]
  },
  {
   "cell_type": "markdown",
   "metadata": {
    "id": "jSFtLROQ6ZKH"
   },
   "source": [
    "# Start here to generate new data"
   ]
  },
  {
   "cell_type": "code",
   "execution_count": null,
   "metadata": {
    "colab": {
     "base_uri": "https://localhost:8080/",
     "height": 481
    },
    "id": "A3nXVMHM6ZKH",
    "outputId": "0bcb8326-12e7-4190-8477-7961b38416cd"
   },
   "outputs": [],
   "source": [
    "n = 500 # Initial number of points\n",
    "y1 = 0 # Minimum y value\n",
    "y2 = 2000 # Maximum y value\n",
    "x1 = 0 # Minimum x value\n",
    "x2 = 2000 # Maximum x value\n",
    "pos_n = 0 # Used purely for indexing in the data structure that holds the nodes\n",
    "r_dispersal = 100 # dispersal radius (set to 100)\n",
    "r_nieghborhood = 100 # This is the radius used to connect points (set to 100)\n",
    "G = nx.Graph() # Creating an empty graph\n",
    "survival_rates = {} # this is a dictionary that holds the survival rate for each node in the graph indexed at the key\n",
    "fecundity_rates = {} # empty dictionary that holds the fecundity as values and the node as key.\n",
    "\n",
    "plt.rcParams['figure.figsize'] = [20, 8] # Configures window size. \n",
    "plt.rcParams['figure.dpi'] = 100 \n",
    "\n",
    "# Instantiate the points to be plotted\n",
    "for i in range(n):\n",
    "    G.add_node(i,attr_dict={\"x\":random.randint(x1,x2),\"y\":random.randint(y1,y2)})\n",
    "    pos_n = pos_n + 1\n",
    "\n",
    "# Connect and graph initial random points.\n",
    "connect_all(G,r_nieghborhood)\n",
    "fecundity(G)\n",
    "survival_rate(G)\n",
    "my_grapher(G)\n",
    "\n",
    "## Keep track of size of graph\n",
    "Size = [n]"
   ]
  },
  {
   "cell_type": "code",
   "execution_count": null,
   "metadata": {
    "colab": {
     "base_uri": "https://localhost:8080/",
     "height": 381
    },
    "id": "WzROuy116ZKL",
    "outputId": "b00c346e-c7e3-46a2-b3a0-d7599cb8f462"
   },
   "outputs": [],
   "source": [
    "# First 100 iterations\n",
    "for i in range(100):\n",
    "    pos_n = disperse(G,r_dispersal,pos_n)\n",
    "    death(G)\n",
    "    Size.append(G.size())"
   ]
  },
  {
   "cell_type": "code",
   "execution_count": null,
   "metadata": {},
   "outputs": [],
   "source": [
    "print(G.size())\n",
    "my_grapher(G)"
   ]
  },
  {
   "cell_type": "code",
   "execution_count": null,
   "metadata": {},
   "outputs": [],
   "source": [
    "# First 1,000 iterations.\n",
    "for i in range(900):\n",
    "    pos_n = disperse(G,r_dispersal,pos_n)\n",
    "    death(G)\n",
    "    Size.append(G.size())"
   ]
  },
  {
   "cell_type": "code",
   "execution_count": null,
   "metadata": {},
   "outputs": [],
   "source": [
    "print(G.size())\n",
    "my_grapher(G)"
   ]
  },
  {
   "cell_type": "code",
   "execution_count": null,
   "metadata": {},
   "outputs": [],
   "source": [
    "# First 10,000 iterations\n",
    "for i in range(9000):\n",
    "    pos_n = disperse(G,r_dispersal,pos_n)\n",
    "    death(G)\n",
    "    Size.append(G.size())"
   ]
  },
  {
   "cell_type": "code",
   "execution_count": null,
   "metadata": {},
   "outputs": [],
   "source": [
    "print(G.size())\n",
    "my_grapher(G)"
   ]
  },
  {
   "cell_type": "code",
   "execution_count": null,
   "metadata": {},
   "outputs": [],
   "source": [
    "# 100,000 iterations reached\n",
    "for i in range(90000):\n",
    "    pos_n = disperse(G,r_dispersal,pos_n)\n",
    "    death(G)\n",
    "    Size.append(G.size())"
   ]
  },
  {
   "cell_type": "code",
   "execution_count": null,
   "metadata": {},
   "outputs": [],
   "source": [
    "print(G.size())\n",
    "my_grapher(G)"
   ]
  },
  {
   "cell_type": "code",
   "execution_count": null,
   "metadata": {},
   "outputs": [],
   "source": [
    "# Plot the population size\n",
    "plt.plot(range(len(Size)),Size)\n",
    "plt.xlabel('Iterations')\n",
    "plt.ylabel('Population Size');"
   ]
  },
  {
   "cell_type": "code",
   "execution_count": null,
   "metadata": {},
   "outputs": [],
   "source": []
  }
 ],
 "metadata": {
  "colab": {
   "collapsed_sections": [],
   "name": "RDNfd.ipynb",
   "provenance": []
  },
  "kernelspec": {
   "display_name": "Python 3",
   "language": "python",
   "name": "python3"
  },
  "language_info": {
   "codemirror_mode": {
    "name": "ipython",
    "version": 3
   },
   "file_extension": ".py",
   "mimetype": "text/x-python",
   "name": "python",
   "nbconvert_exporter": "python",
   "pygments_lexer": "ipython3",
   "version": "3.8.5"
  }
 },
 "nbformat": 4,
 "nbformat_minor": 1
}
